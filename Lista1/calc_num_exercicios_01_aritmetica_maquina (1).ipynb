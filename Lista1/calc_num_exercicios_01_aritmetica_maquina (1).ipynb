{
 "cells": [
  {
   "cell_type": "markdown",
   "metadata": {
    "id": "RAQKctAL-fH9"
   },
   "source": [
    "# Lista de Exercícios 01 – Representação numérica e aritmética de máquina\n",
    "\n",
    "- Considere uma precisão de oito casas decimais;\n",
    "- Apresente os códigos e demais detalhes nas respostas."
   ]
  },
  {
   "cell_type": "markdown",
   "metadata": {
    "id": "zOBedIQcAPc5"
   },
   "source": [
    "## 1 - Faça as seguintes conversões de base:"
   ]
  },
  {
   "cell_type": "markdown",
   "metadata": {},
   "source": [
    "### a) Os seguintes números para a base decimal: $\\mathtt{425.135_8}$, $\\mathtt{1001101.1101_2}$ e $\\mathtt{12FA7.4C8_{16}}$"
   ]
  },
  {
   "cell_type": "code",
   "execution_count": 5,
   "metadata": {},
   "outputs": [
    {
     "name": "stdout",
     "output_type": "stream",
     "text": [
      "277.1816\n",
      "77.8125\n",
      "77735.2988\n"
     ]
    }
   ],
   "source": [
    "# 425.135 (octal para decimal)\n",
    "n1 = 4*8**2 + 2*8**1 + 5*8**0 + 1*8**-1 + 3*8**-2 + 5*8**-3\n",
    "n1 = round(n1, 4)\n",
    "print(n1)\n",
    "# 1001101.1101 (binario para decimal)\n",
    "n2 = 1*2**6 + 0*2**5 + 0*2**4 + 1*2**3 + 1*2**2 + 0*2**1 + 1*2**0 + 1*2**-1 + 1*2**-2 + 0*2**-3 + 1*2**-4\n",
    "n2 = round(n2, 4)\n",
    "print(n2)\n",
    "# 12FA7.4C8 (hexadecimal para decimal)\n",
    "n3 = 1*16**4 + 2*16**3 + 15*16**2 + 10*16**1 + 7*16**0 + 4*16**-1 + 12*16**-2 + 8*16**-3\n",
    "n3 = round(n3, 4)\n",
    "print(n3)"
   ]
  },
  {
   "cell_type": "markdown",
   "metadata": {},
   "source": [
    "### b) $\\mathtt{126.485_{10}}$ para as bases $\\mathtt{2}$, $\\mathtt{4}$, $\\mathtt{8}$ e $\\mathtt{16}$"
   ]
  },
  {
   "cell_type": "code",
   "execution_count": 9,
   "metadata": {},
   "outputs": [
    {
     "name": "stdout",
     "output_type": "stream",
     "text": [
      "[1, 1, 1, 1, 1, 1, 0] , [0, 1, 1, 1, 1, 1, 0, 0, 0, 0, 1, 0, 1, 1, 1, 1, 1, 0, 0, 0]\n",
      "[1, 3, 3, 2] , [1, 3, 3, 0, 0, 2, 3, 3, 2, 0, 0, 3, 1, 3, 2, 3, 1, 0, 2, 2]\n",
      "[1, 7, 6] , [3, 7, 0, 2, 7, 6, 0, 3, 3, 6, 6, 4, 5, 0, 4, 4, 0, 0, 0, 0]\n",
      "[7, 14] , [7, 12, 2, 15, 8, 3, 7, 11, 4, 10, 2, 4, 0, 0, 0, 0, 0, 0, 0, 0]\n"
     ]
    }
   ],
   "source": [
    "num = 126.48510\n",
    "casas = 20\n",
    "inteira = int(num)\n",
    "fracao = num - inteira\n",
    "# 10->2\n",
    "vet_inteira2 = []\n",
    "n = inteira\n",
    "while n > 0:\n",
    "    vet_inteira2.append(n % 2)\n",
    "    n //= 2\n",
    "vet_inteira2.reverse()\n",
    "vet_fracao2 = []\n",
    "f = fracao\n",
    "for i in range(casas):\n",
    "    f *= 2\n",
    "    d = int(f)\n",
    "    vet_fracao2.append(d)\n",
    "    f -= d\n",
    "print(vet_inteira2,',',vet_fracao2)\n",
    "# 10->4\n",
    "vet_inteira4 = []\n",
    "n = inteira\n",
    "while n > 0:\n",
    "    vet_inteira4.append(n % 4)\n",
    "    n //= 4\n",
    "vet_inteira4.reverse()\n",
    "vet_fracao4 = []\n",
    "f = fracao\n",
    "for i in range(casas):\n",
    "    f *= 4\n",
    "    d = int(f)\n",
    "    vet_fracao4.append(d)\n",
    "    f -= d\n",
    "print(vet_inteira4,',',vet_fracao4)\n",
    "# 10->8\n",
    "vet_inteira8 = []\n",
    "n = inteira\n",
    "while n > 0:\n",
    "    vet_inteira8.append(n % 8)\n",
    "    n //= 8\n",
    "vet_inteira8.reverse()\n",
    "vet_fracao8 = []\n",
    "f = fracao\n",
    "for i in range(casas):\n",
    "    f *= 8\n",
    "    d = int(f)\n",
    "    vet_fracao8.append(d)\n",
    "    f -= d\n",
    "print(vet_inteira8,',',vet_fracao8)\n",
    "# 10->16\n",
    "vet_inteira16 = []\n",
    "n = inteira\n",
    "while n > 0:\n",
    "    vet_inteira16.append(n % 16)\n",
    "    n //= 16\n",
    "vet_inteira16.reverse()\n",
    "vet_fracao16 = []\n",
    "f = fracao\n",
    "for i in range(casas):\n",
    "    f *= 16\n",
    "    d = int(f)\n",
    "    vet_fracao16.append(d)\n",
    "    f -= d\n",
    "print(vet_inteira16,',',vet_fracao16)"
   ]
  },
  {
   "cell_type": "markdown",
   "metadata": {},
   "source": [
    "### c) $\\mathtt{1010010.011_2}$ para as bases $\\mathtt{4}$, $\\mathtt{8}$, $\\mathtt{10}$ e $\\mathtt{16}$"
   ]
  },
  {
   "cell_type": "code",
   "execution_count": 12,
   "metadata": {},
   "outputs": [
    {
     "name": "stdout",
     "output_type": "stream",
     "text": [
      "[1, 1, 0, 2] , [1, 2, 0, 0, 0, 0, 0, 0, 0, 0, 0, 0, 0, 0, 0, 0, 0, 0, 0, 0]\n",
      "[1, 2, 2] , [3, 0, 0, 0, 0, 0, 0, 0, 0, 0, 0, 0, 0, 0, 0, 0, 0, 0, 0, 0]\n",
      "82.375\n",
      "[5, 2] , [6, 0, 0, 0, 0, 0, 0, 0, 0, 0, 0, 0, 0, 0, 0, 0, 0, 0, 0, 0]\n"
     ]
    }
   ],
   "source": [
    "# 1010010.011 (binario para decimal)\n",
    "n2 = 1*2**6 + 0*2**5 + 1*2**4 + 0*2**3 + 0*2**2 + 1*2**1 + 0*2**0 + 0*2**-1 + 1*2**-2 + 1*2**-3\n",
    "n2 = round(n2, 4)\n",
    "num = n2\n",
    "casas = 20\n",
    "inteira = int(num)\n",
    "fracao = num - inteira\n",
    "# 10->4\n",
    "vet_inteira4 = []\n",
    "n = inteira\n",
    "while n > 0:\n",
    "    vet_inteira4.append(n % 4)\n",
    "    n //= 4\n",
    "vet_inteira4.reverse()\n",
    "vet_fracao4 = []\n",
    "f = fracao\n",
    "for i in range(casas):\n",
    "    f *= 4\n",
    "    d = int(f)\n",
    "    vet_fracao4.append(d)\n",
    "    f -= d\n",
    "print(vet_inteira4,',',vet_fracao4)\n",
    "# 10->8\n",
    "vet_inteira8 = []\n",
    "n = inteira\n",
    "while n > 0:\n",
    "    vet_inteira8.append(n % 8)\n",
    "    n //= 8\n",
    "vet_inteira8.reverse()\n",
    "vet_fracao8 = []\n",
    "f = fracao\n",
    "for i in range(casas):\n",
    "    f *= 8\n",
    "    d = int(f)\n",
    "    vet_fracao8.append(d)\n",
    "    f -= d\n",
    "print(vet_inteira8,',',vet_fracao8)\n",
    "# 10\n",
    "print(n2)\n",
    "# 10->16\n",
    "vet_inteira16 = []\n",
    "n = inteira\n",
    "while n > 0:\n",
    "    vet_inteira16.append(n % 16)\n",
    "    n //= 16\n",
    "vet_inteira16.reverse()\n",
    "vet_fracao16 = []\n",
    "f = fracao\n",
    "for i in range(casas):\n",
    "    f *= 16\n",
    "    d = int(f)\n",
    "    vet_fracao16.append(d)\n",
    "    f -= d\n",
    "print(vet_inteira16,',',vet_fracao16)"
   ]
  },
  {
   "cell_type": "markdown",
   "metadata": {},
   "source": [
    "## 2 - Aproxime os números a seguir para três dígitos significativos por arredondamento e por truncamento:\n",
    "a) $1.1598   $\n",
    "\n",
    "b) $7.3999   $\n",
    "\n",
    "c)  $-5.9012  $\n",
    "\n",
    "d)  $1.1615   $\n",
    "\n",
    "e)  $3.135598 $\n",
    "\n",
    "f)  $8.394559 $\n",
    "\n",
    "g)  $-9.907142$\n",
    "\n",
    "h)  $0.1615221$"
   ]
  },
  {
   "cell_type": "code",
   "execution_count": 16,
   "metadata": {},
   "outputs": [
    {
     "name": "stdout",
     "output_type": "stream",
     "text": [
      "1.1598 1.16 1.15\n",
      "7.3999 7.4 7.39\n",
      "-5.9012 -5.9 -5.9\n",
      "1.1615 1.16 1.16\n",
      "3.135598 3.14 3.13\n",
      "8.394559 8.39 8.39\n",
      "-9.907142 -9.91 -9.9\n",
      "0.1615221 0.162 0.161\n"
     ]
    }
   ],
   "source": [
    "numeros = [1.1598, 7.3999, -5.9012, 1.1615, 3.135598, 8.394559, -9.907142, 0.1615221]\n",
    "for x in numeros:\n",
    "    if x == 0:\n",
    "        arred = 0\n",
    "        trunc = 0\n",
    "    else:\n",
    "        absx = x if x > 0 else -x\n",
    "        inteira = 0\n",
    "        temp = absx\n",
    "        while temp >= 1:\n",
    "            temp = temp / 10\n",
    "            inteira += 1\n",
    "        fator = 10**(3 - inteira)\n",
    "        # arredonda\n",
    "        arred = int(absx * fator + 0.5) / fator\n",
    "        # trunca\n",
    "        trunc = int(absx * fator) / fator\n",
    "        if x < 0:\n",
    "            arred = -arred\n",
    "            trunc = -trunc\n",
    "    print(x, arred, trunc)"
   ]
  },
  {
   "cell_type": "markdown",
   "metadata": {},
   "source": [
    "## 3 - Calcule o erro absoluto e relativo das aproximações:\n",
    "a) $x = 1.00001 $ e $\\overline{x}=1      $\n",
    "\n",
    "b) $x = 100001  $ e $\\overline{x}=100000 $\n",
    "\n",
    "c) $x = 32.65483$ e $\\overline{x}=34.1645$\n",
    "\n",
    "d) $x = 5.87135 $ e $\\overline{x}=5.87049$"
   ]
  },
  {
   "cell_type": "code",
   "execution_count": 18,
   "metadata": {},
   "outputs": [
    {
     "name": "stdout",
     "output_type": "stream",
     "text": [
      "1.00001 1e-05 1e-05\n",
      "100001 1 1e-05\n",
      "32.65483 1.50967 0.046231\n",
      "5.87135 0.00086 0.000146\n"
     ]
    }
   ],
   "source": [
    "x = [1.00001, 100001, 32.65483, 5.87135]\n",
    "x_approx = [1, 100000, 34.1645, 5.87049]\n",
    "\n",
    "for i in range(len(x)):\n",
    "    # erro absoluto\n",
    "    ea = abs(x[i] - x_approx[i])\n",
    "    # erro relativo\n",
    "    er = ea / abs(x[i])\n",
    "    print(x[i], round(ea,6), round(er,6))"
   ]
  }
 ],
 "metadata": {
  "colab": {
   "provenance": []
  },
  "kernelspec": {
   "display_name": "Python 3",
   "name": "python3"
  },
  "language_info": {
   "codemirror_mode": {
    "name": "ipython",
    "version": 3
   },
   "file_extension": ".py",
   "mimetype": "text/x-python",
   "name": "python",
   "nbconvert_exporter": "python",
   "pygments_lexer": "ipython3",
   "version": "3.13.7"
  }
 },
 "nbformat": 4,
 "nbformat_minor": 0
}
